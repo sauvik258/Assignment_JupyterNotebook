{
 "cells": [
  {
   "cell_type": "markdown",
   "id": "a99cf5ad-885f-48ce-bf02-dd137cb20f4f",
   "metadata": {},
   "source": [
    "# My Jupyter Notebook on IBM Watson Studio"
   ]
  },
  {
   "cell_type": "markdown",
   "id": "0d412f5a-d35b-46d8-b8a3-b08c0b5d12af",
   "metadata": {},
   "source": [
    "**Sauvik Chaudhury**<br>\n",
    "Aspiring Data Scientist"
   ]
  },
  {
   "cell_type": "markdown",
   "id": "7c1538b6-4330-4172-a3f7-49b57b83ddfc",
   "metadata": {},
   "source": [
    "*I am interested in data science because I like to work with data, statistical analysis and problem solving*"
   ]
  },
  {
   "cell_type": "markdown",
   "id": "c0e3b823-2a34-4d9f-b878-5d0fc4d7bb60",
   "metadata": {
    "tags": []
   },
   "source": [
    "### The code will print the sentence Hello World"
   ]
  },
  {
   "cell_type": "code",
   "execution_count": 2,
   "id": "3e8c48f3-f843-4987-b49d-7d14f6c01ee3",
   "metadata": {},
   "outputs": [
    {
     "name": "stdout",
     "output_type": "stream",
     "text": [
      "Hello World\n"
     ]
    }
   ],
   "source": [
    "print('Hello World')"
   ]
  },
  {
   "cell_type": "markdown",
   "id": "35ce0942-e1e1-4254-b1b5-859436bfe109",
   "metadata": {},
   "source": [
    "**Numbered List**\n",
    "1. Numbered List 1\n",
    "1. Numbered List 2\n",
    "1. Numbered List 3\n",
    "\n",
    "**Bulleted List**\n",
    "- Bulleted List 1\n",
    "- Bulleted List 2\n",
    "- Bulleted List 3\n",
    "\n",
    "**Horizontal Line**\n",
    "***"
   ]
  },
  {
   "cell_type": "code",
   "execution_count": null,
   "id": "6988fea8-919e-4b25-a1f8-4d2f4491e597",
   "metadata": {},
   "outputs": [],
   "source": []
  }
 ],
 "metadata": {
  "kernelspec": {
   "display_name": "Python",
   "language": "python",
   "name": "conda-env-python-py"
  },
  "language_info": {
   "codemirror_mode": {
    "name": "ipython",
    "version": 3
   },
   "file_extension": ".py",
   "mimetype": "text/x-python",
   "name": "python",
   "nbconvert_exporter": "python",
   "pygments_lexer": "ipython3",
   "version": "3.7.12"
  }
 },
 "nbformat": 4,
 "nbformat_minor": 5
}
